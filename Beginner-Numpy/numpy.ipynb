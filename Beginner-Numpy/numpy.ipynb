{
 "cells": [
  {
   "cell_type": "markdown",
   "id": "a550efa4",
   "metadata": {},
   "source": [
    "CODEDEX EXCERCISES\n"
   ]
  },
  {
   "cell_type": "code",
   "execution_count": null,
   "id": "9c840824",
   "metadata": {},
   "outputs": [],
   "source": [
    "\n",
    "import numpy as np\n",
    "\n"
   ]
  },
  {
   "cell_type": "markdown",
   "id": "46537952",
   "metadata": {},
   "source": [
    "numpy array"
   ]
  },
  {
   "cell_type": "code",
   "execution_count": 3,
   "id": "e6d0909e",
   "metadata": {},
   "outputs": [],
   "source": [
    "rent = np.array([1500, 1500, 1500, 1500, 1750, 1750])"
   ]
  },
  {
   "cell_type": "markdown",
   "id": "1f389ae2",
   "metadata": {},
   "source": [
    "indexing of arrays in numpy"
   ]
  },
  {
   "cell_type": "code",
   "execution_count": 4,
   "id": "a7602218",
   "metadata": {},
   "outputs": [
    {
     "data": {
      "text/plain": [
       "np.str_('JavaScript')"
      ]
     },
     "execution_count": 4,
     "metadata": {},
     "output_type": "execute_result"
    }
   ],
   "source": [
    "languages=np.array(['Python', 'Java', 'JavaScript', 'C++', 'Ruby'])\n",
    "languages[2]"
   ]
  },
  {
   "cell_type": "markdown",
   "id": "7270d03a",
   "metadata": {},
   "source": [
    "slice"
   ]
  },
  {
   "cell_type": "code",
   "execution_count": 5,
   "id": "53a43471",
   "metadata": {},
   "outputs": [
    {
     "name": "stdout",
     "output_type": "stream",
     "text": [
      "[3 2]\n",
      "[1 0 1]\n",
      "[0 1]\n"
     ]
    }
   ],
   "source": [
    "coffee = np.array([3, 2, 1, 0, 1])\n",
    "\n",
    "print(coffee[0:2])\n",
    "print(coffee[2:])   \n",
    "print(coffee[-2:])"
   ]
  },
  {
   "cell_type": "markdown",
   "id": "69522e08",
   "metadata": {},
   "source": [
    "excercise"
   ]
  },
  {
   "cell_type": "markdown",
   "id": "dab1a023",
   "metadata": {},
   "source": [
    "Every metro city's population is constantly changing. Google your favorite city's population in the recent years and create an array for them.\n",
    "\n",
    "Here are the NYC population from 2023 (top) to 2013 (bottom):\n",
    "\n",
    "19571216\n",
    "19673200\n",
    "19854526\n",
    "20104710\n",
    "19463131\n",
    "19544098\n",
    "19593849\n",
    "19636391\n",
    "19657321\n",
    "19653431\n",
    "19626488\n",
    "Print the first item and the last item. What did you get?\n",
    "\n",
    "Now find the difference between them using subtraction. How did the population change in the last ten years?\n",
    "\n",
    "COVID-19 happened during 2020-2022; those were some crazy years. Use slicing, and print the population during those years for your city."
   ]
  },
  {
   "cell_type": "code",
   "execution_count": 7,
   "id": "3b486a75",
   "metadata": {},
   "outputs": [],
   "source": [
    "population=np.array([19571216,19673200,19854526,20104710,19463131,19544098,19593849,19636391,19657321,19653431,19626488])"
   ]
  },
  {
   "cell_type": "code",
   "execution_count": 8,
   "id": "5febeece",
   "metadata": {},
   "outputs": [
    {
     "name": "stdout",
     "output_type": "stream",
     "text": [
      "19571216\n"
     ]
    }
   ],
   "source": [
    "print(population[0])"
   ]
  },
  {
   "cell_type": "code",
   "execution_count": 9,
   "id": "cdb723f7",
   "metadata": {},
   "outputs": [
    {
     "name": "stdout",
     "output_type": "stream",
     "text": [
      "19626488\n"
     ]
    }
   ],
   "source": [
    "print(population[-1])"
   ]
  },
  {
   "cell_type": "code",
   "execution_count": 10,
   "id": "f03a3f3d",
   "metadata": {},
   "outputs": [
    {
     "name": "stdout",
     "output_type": "stream",
     "text": [
      "101984\n"
     ]
    }
   ],
   "source": [
    "print(population[1]-population[0])"
   ]
  },
  {
   "cell_type": "code",
   "execution_count": 11,
   "id": "64d5acbf",
   "metadata": {},
   "outputs": [
    {
     "name": "stdout",
     "output_type": "stream",
     "text": [
      "[19673200 19854526 20104710]\n"
     ]
    }
   ],
   "source": [
    "print(population[1:4])"
   ]
  },
  {
   "cell_type": "markdown",
   "id": "a0df53f0",
   "metadata": {},
   "source": [
    "2d arrays"
   ]
  },
  {
   "cell_type": "code",
   "execution_count": 12,
   "id": "8d59dc08",
   "metadata": {},
   "outputs": [
    {
     "data": {
      "text/plain": [
       "array([[1, 2, 3],\n",
       "       [4, 5, 6],\n",
       "       [7, 8, 9]])"
      ]
     },
     "execution_count": 12,
     "metadata": {},
     "output_type": "execute_result"
    }
   ],
   "source": [
    "numbers=np.array([[1,2,3],[4,5,6],[7,8,9]])\n",
    "numbers"
   ]
  },
  {
   "cell_type": "markdown",
   "id": "b0bdfe15",
   "metadata": {},
   "source": [
    "Think of something that you do within a day or within a week that can be observered with some number. Some inspirations could be:\n",
    "\n",
    "🍵 Recording your mood (out of 10) in each waking hour today.\n",
    "💤 How many hours you slept.\n",
    "💧 The number of glasses of water you drink everyday this week.\n",
    "🥱 The number of yawns.\n",
    "Use your phone's notes or a notebook to capture this data and then store them in an array.\n",
    "\n",
    "Does this make sense to keep this data in a 1D array or a 2D array?\n",
    "\n",
    "Now, use index and slicing to analyze it a bit - what is the average number during waking hours? How about what is the difference between the beginning and the end of the duration?"
   ]
  },
  {
   "cell_type": "code",
   "execution_count": 13,
   "id": "aa84b938",
   "metadata": {},
   "outputs": [
    {
     "name": "stdout",
     "output_type": "stream",
     "text": [
      "[[6 6 7 5 6 7 9]\n",
      " [7 5 6 8 9 5 6]\n",
      " [8 9 5 6 7 8 5]]\n"
     ]
    }
   ],
   "source": [
    "sleep=np.array([[6,6,7,5,6,7,9]\n",
    "                ,[7,5,6,8,9,5,6],\n",
    "                [8,9,5,6,7,8,5]])\n",
    "print(sleep)"
   ]
  },
  {
   "cell_type": "code",
   "execution_count": 10,
   "id": "9cee6a52",
   "metadata": {},
   "outputs": [
    {
     "name": "stdout",
     "output_type": "stream",
     "text": [
      "The average sleeping time is 7 hours\n"
     ]
    }
   ],
   "source": [
    "avg=np.average(sleep)\n",
    "print(f'The average sleeping time is {round(avg)} hours')"
   ]
  },
  {
   "cell_type": "markdown",
   "id": "85016d85",
   "metadata": {},
   "source": [
    "row wise"
   ]
  },
  {
   "cell_type": "code",
   "execution_count": 11,
   "id": "75ff9663",
   "metadata": {},
   "outputs": [
    {
     "name": "stdout",
     "output_type": "stream",
     "text": [
      "The average sleeping time is 7 hours for the first week\n",
      "The average sleeping time is 7 hours for the second week\n",
      "The average sleeping time is 7 hours for the third week\n"
     ]
    }
   ],
   "source": [
    "avg=np.average(sleep,axis=1)\n",
    "print(f'The average sleeping time is {round(avg[0])} hours for the first week')\n",
    "print(f'The average sleeping time is {round(avg[1])} hours for the second week')\n",
    "print(f'The average sleeping time is {round(avg[2])} hours for the third week')"
   ]
  }
 ],
 "metadata": {
  "kernelspec": {
   "display_name": "Python 3",
   "language": "python",
   "name": "python3"
  },
  "language_info": {
   "codemirror_mode": {
    "name": "ipython",
    "version": 3
   },
   "file_extension": ".py",
   "mimetype": "text/x-python",
   "name": "python",
   "nbconvert_exporter": "python",
   "pygments_lexer": "ipython3",
   "version": "3.10.18"
  }
 },
 "nbformat": 4,
 "nbformat_minor": 5
}

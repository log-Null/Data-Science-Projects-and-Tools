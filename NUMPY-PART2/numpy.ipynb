{
 "cells": [
  {
   "cell_type": "markdown",
   "id": "a550efa4",
   "metadata": {},
   "source": [
    "CODEDEX EXCERCISES\n"
   ]
  },
  {
   "cell_type": "code",
   "execution_count": 14,
   "id": "9c840824",
   "metadata": {},
   "outputs": [],
   "source": [
    "\n",
    "import numpy as np\n",
    "\n"
   ]
  },
  {
   "cell_type": "markdown",
   "id": "dfcc91ca",
   "metadata": {},
   "source": [
    "ARITHMETIC OPERATIONS"
   ]
  },
  {
   "cell_type": "markdown",
   "id": "ef9f8a5d",
   "metadata": {},
   "source": [
    "The world’s tallest buildings are the following, convert them to meters"
   ]
  },
  {
   "cell_type": "code",
   "execution_count": 16,
   "id": "f02fcd21",
   "metadata": {},
   "outputs": [
    {
     "name": "stdout",
     "output_type": "stream",
     "text": [
      "[2717 2227 2073 1972 1966 1819 1776]\n",
      "after conversion to meters:\n",
      "[828.1416 678.7896 631.8504 601.0656 599.2368 554.4312 541.3248]\n"
     ]
    }
   ],
   "source": [
    "tallest_buildings = np.array([2717, 2227, 2073, 1972, 1966, 1819, 1776])\n",
    "print(tallest_buildings)\n",
    "print(\"after conversion to meters:\")\n",
    "print(tallest_buildings*0.3048)\n"
   ]
  },
  {
   "cell_type": "markdown",
   "id": "166e341b",
   "metadata": {},
   "source": [
    "NumPy Functions\n"
   ]
  },
  {
   "cell_type": "markdown",
   "id": "2f23e922",
   "metadata": {},
   "source": [
    "\n",
    "Here are some of the common ones:\n",
    "\n",
    "- .min() Return the minimum value of an array.\n",
    "- .max() Return the maximum value of an array.\n",
    "- .sum() Return the total sum of an array's values.\n",
    "- .average() Return the average value of an array."
   ]
  },
  {
   "cell_type": "markdown",
   "id": "bde19447",
   "metadata": {},
   "source": [
    "Go into your phone and find the number of steps you’ve taken in the last week and add them into an array."
   ]
  },
  {
   "cell_type": "code",
   "execution_count": 17,
   "id": "fd5f5354",
   "metadata": {},
   "outputs": [],
   "source": [
    "steps = np.array([3191, 230, 9193, 4670, 164, 3820, 9093])"
   ]
  },
  {
   "cell_type": "code",
   "execution_count": 20,
   "id": "18a23a35",
   "metadata": {},
   "outputs": [
    {
     "name": "stdout",
     "output_type": "stream",
     "text": [
      " the minimum no of steps is 164\n",
      " the maximum no of steps is 9193\n",
      " the average no of steps is 4337\n"
     ]
    }
   ],
   "source": [
    "print(f\" the minimum no of steps is { np.min(steps)}\")\n",
    "print(f\" the maximum no of steps is { np.max(steps)}\")\n",
    "print(f\" the average no of steps is { round(np.average(steps))}\")"
   ]
  },
  {
   "cell_type": "markdown",
   "id": "79493517",
   "metadata": {},
   "source": [
    "SHAPE"
   ]
  },
  {
   "cell_type": "code",
   "execution_count": 23,
   "id": "28bd360d",
   "metadata": {},
   "outputs": [
    {
     "name": "stdout",
     "output_type": "stream",
     "text": [
      "(4, 3)\n"
     ]
    }
   ],
   "source": [
    "arr = np.array([[1, 2, 3], [4, 5, 6], [7, 8, 9], [10, 11, 12]]) \n",
    "\n",
    "print(arr.shape)    "
   ]
  },
  {
   "cell_type": "markdown",
   "id": "d86f1b8a",
   "metadata": {},
   "source": [
    "reshape"
   ]
  },
  {
   "cell_type": "code",
   "execution_count": 24,
   "id": "d36bd6ef",
   "metadata": {},
   "outputs": [
    {
     "name": "stdout",
     "output_type": "stream",
     "text": [
      "[[1 2 3 4]\n",
      " [5 6 7 8]]\n"
     ]
    }
   ],
   "source": [
    "arr = np.array([1, 2, 3, 4, 5, 6, 7, 8]) \n",
    "new_arr = arr.reshape(2, 4)\n",
    "\n",
    "print(new_arr)\n",
    "\n"
   ]
  },
  {
   "cell_type": "markdown",
   "id": "ab4d0933",
   "metadata": {},
   "source": [
    "#30NitesOfCode is a feature on Codédex that encourages one to code every day for a month.\n",
    "\n",
    "A learner completed the challenge and recorded the amount of time they coded every single day for four weeks:\n",
    "- 56\n",
    "- 100 \n",
    "- 33 \n",
    "- 0\n",
    "- 45\n",
    "- 45\n",
    "- 46\n",
    "- 34\n",
    "- 89,\n",
    "- 180\n",
    "- 60\n",
    "- 45\n",
    "- 45\n",
    "- 44\n",
    "- 46\n",
    "- 45\n",
    "- 0\n",
    "- 0\n",
    "- 15\n",
    "- 90\n",
    "- 301\n",
    "- 197\n",
    "- 20\n",
    "- 60\n",
    "- 45\n",
    "- 45\n",
    "- 42\n",
    "- 45"
   ]
  },
  {
   "cell_type": "markdown",
   "id": "e68cf11e",
   "metadata": {},
   "source": [
    "what is the shape of this array? Confirm by using the .shape property."
   ]
  },
  {
   "cell_type": "code",
   "execution_count": 25,
   "id": "e265ccd8",
   "metadata": {},
   "outputs": [],
   "source": [
    "month_results = np.array([56, 100, 33, 0, 45, 45, 46, 34, 89, 180, 60, 45, 45, 44, 46, 45, 0, 0, 15, 90, 301, 197, 20, 60, 45, 45, 42, 45])"
   ]
  },
  {
   "cell_type": "code",
   "execution_count": 26,
   "id": "6942461c",
   "metadata": {},
   "outputs": [
    {
     "data": {
      "text/plain": [
       "(28,)"
      ]
     },
     "execution_count": 26,
     "metadata": {},
     "output_type": "execute_result"
    }
   ],
   "source": [
    "month_results.shape"
   ]
  },
  {
   "cell_type": "markdown",
   "id": "59d9db51",
   "metadata": {},
   "source": [
    "Suppose we want to split this monthly data into weekly data. Use .reshape() so that each row is made of 7 items (for each week of the month)."
   ]
  },
  {
   "cell_type": "code",
   "execution_count": 27,
   "id": "05ddb30d",
   "metadata": {},
   "outputs": [
    {
     "data": {
      "text/plain": [
       "array([[ 56, 100,  33,   0,  45,  45,  46],\n",
       "       [ 34,  89, 180,  60,  45,  45,  44],\n",
       "       [ 46,  45,   0,   0,  15,  90, 301],\n",
       "       [197,  20,  60,  45,  45,  42,  45]])"
      ]
     },
     "execution_count": 27,
     "metadata": {},
     "output_type": "execute_result"
    }
   ],
   "source": [
    "month_results.reshape(4,7)"
   ]
  },
  {
   "cell_type": "markdown",
   "id": "4d4860a0",
   "metadata": {},
   "source": [
    ".arange()"
   ]
  },
  {
   "cell_type": "markdown",
   "id": "c63e3149",
   "metadata": {},
   "source": [
    "Halley's Comet is a comet visible from Earth every 75 years. It is the only known \"short-period comet\" that is consistently visible to the naked eye from Earth. It was last seen in 1986 and the next one will happen in 2061. 💫\n",
    "\n",
    "Using .arange(), create an array of numbers with the years when Halley's Comet will appear next from year 1986 to 3000."
   ]
  },
  {
   "cell_type": "code",
   "execution_count": 28,
   "id": "a16823b4",
   "metadata": {},
   "outputs": [
    {
     "name": "stdout",
     "output_type": "stream",
     "text": [
      "[1986 2061 2136 2211 2286 2361 2436 2511 2586 2661 2736 2811 2886 2961]\n"
     ]
    }
   ],
   "source": [
    "comet_visible=np.arange(start=1986, stop=3001, step=75)\n",
    "print(comet_visible)"
   ]
  },
  {
   "cell_type": "markdown",
   "id": "6a5f1c13",
   "metadata": {},
   "source": [
    "we learned:\n",
    "\n",
    "Math operations with +, -, *, /, and %.\n",
    "Math functions like .min(), .max(), .sum(), .average().\n",
    ".shape shows the number of elements for each dimension and .reshape() updates it.\n",
    ".arange() to create an array with evenly spaced values."
   ]
  },
  {
   "cell_type": "markdown",
   "id": "28081202",
   "metadata": {},
   "source": [
    "TITANIC ANALYSIS"
   ]
  },
  {
   "cell_type": "markdown",
   "id": "012d69d0",
   "metadata": {},
   "source": [
    "- What is the shape of this array?\n",
    "- What is the average age of the passengers?\n",
    "- What is the passenger number of the oldest passenger? Who is the youngest?\n",
    "- What is the percentage of folks that survived?"
   ]
  },
  {
   "cell_type": "code",
   "execution_count": 29,
   "id": "6b247fc5",
   "metadata": {},
   "outputs": [],
   "source": [
    "passengers = np.array([\n",
    "   [1, 0, 3, 22],\n",
    "   [2, 1, 1, 38],\n",
    "   [3, 1, 3, 26],\n",
    "   [4, 1, 1, 35],\n",
    "   [5, 0, 3, 35],\n",
    "   [6, 0, 3, 18],\n",
    "   [7, 0, 1, 54],\n",
    "   [8, 0, 3, 2],\n",
    "   [9, 1, 3, 27],\n",
    "  [10, 1, 2, 14],\n",
    "  [11, 1, 3, 4],\n",
    "  [12, 1, 1, 58],\n",
    "  [13, 0, 3, 20],\n",
    "  [14, 0, 3, 39],\n",
    "  [15, 0, 3, 14],\n",
    "  [16, 1, 2, 55],\n",
    "  [17, 0, 3, 2],\n",
    "  [18, 1, 2, 12],\n",
    "  [19, 0, 3, 31],\n",
    "  [20, 1, 3, 8],\n",
    "  [21, 0, 2, 35],\n",
    "  [22, 1, 2, 34],\n",
    "  [23, 1, 3, 15],\n",
    "  [24, 1, 1, 28],\n",
    "  [25, 0, 3, 8],\n",
    "  [26, 1, 3, 38],\n",
    "  [27, 0, 3, 2],\n",
    "  [28, 0, 1, 1],\n",
    "  [29, 1, 3, 5],\n",
    "  [30, 0, 3, 18],\n",
    "  [31, 0, 1, 40],\n",
    "  [32, 1, 1, 70],\n",
    "  [33, 1, 3, 33],\n",
    "  [34, 0, 2, 66],\n",
    "  [35, 0, 1, 28],\n",
    "  [36, 0, 1, 42],\n",
    "  [37, 1, 3, 5],\n",
    "  [38, 0, 3, 18],\n",
    "  [39, 0, 3, 18],\n",
    "  [40, 1, 3, 14],\n",
    "  [41, 0, 3, 40],\n",
    "  [42, 0, 2, 27],\n",
    "  [43, 0, 3, 29],\n",
    "  [44, 1, 2, 0],\n",
    "  [45, 1, 3, 19],\n",
    "  [46, 0, 3, 33],\n",
    "  [47, 0, 3, 14],\n",
    "  [48, 1, 3, 22],\n",
    "  [49, 0, 3, 41],\n",
    "  [50, 0, 3, 18]\n",
    "])"
   ]
  },
  {
   "cell_type": "code",
   "execution_count": 30,
   "id": "85d784ee",
   "metadata": {},
   "outputs": [
    {
     "data": {
      "text/plain": [
       "(50, 4)"
      ]
     },
     "execution_count": 30,
     "metadata": {},
     "output_type": "execute_result"
    }
   ],
   "source": [
    "passengers.shape"
   ]
  },
  {
   "cell_type": "code",
   "execution_count": 35,
   "id": "ef8aedcb",
   "metadata": {},
   "outputs": [
    {
     "name": "stdout",
     "output_type": "stream",
     "text": [
      "The average age of the passengers is 25.5\n"
     ]
    }
   ],
   "source": [
    "age=passengers[:, 3]\n",
    "average_age=np.mean(age)\n",
    "print(f\"The average age of the passengers is {average_age}\")\n"
   ]
  },
  {
   "cell_type": "code",
   "execution_count": 38,
   "id": "5668a8da",
   "metadata": {},
   "outputs": [
    {
     "data": {
      "text/plain": [
       "np.int64(70)"
      ]
     },
     "execution_count": 38,
     "metadata": {},
     "output_type": "execute_result"
    }
   ],
   "source": [
    "age.max()"
   ]
  },
  {
   "cell_type": "code",
   "execution_count": 45,
   "id": "3ec2be63",
   "metadata": {},
   "outputs": [
    {
     "name": "stdout",
     "output_type": "stream",
     "text": [
      "Oldest passenger ID: 32 Age: 70\n"
     ]
    }
   ],
   "source": [
    "oldest_age = np.max(age)             # maximum age\n",
    "oldest_index = np.argmax(age)        # index of max age\n",
    "oldest_passenger = passengers[oldest_index, 0]  # Passenger ID\n",
    "print(\"Oldest passenger ID:\", oldest_passenger, \"Age:\", oldest_age)\n"
   ]
  },
  {
   "cell_type": "code",
   "execution_count": null,
   "id": "fb240efa",
   "metadata": {},
   "outputs": [
    {
     "name": "stdout",
     "output_type": "stream",
     "text": [
      "Oldest passenger ID: 44 Age: 0\n"
     ]
    }
   ],
   "source": [
    "oldest_age = np.min(age)             # maximum age\n",
    "oldest_index = np.argmin(age)        \n",
    "oldest_passenger = passengers[oldest_index, 0]  # Passenger ID\n",
    "print(\"Oldest passenger ID:\", oldest_passenger, \"Age:\", oldest_age)"
   ]
  },
  {
   "cell_type": "code",
   "execution_count": 44,
   "id": "fe699d50",
   "metadata": {},
   "outputs": [
    {
     "name": "stdout",
     "output_type": "stream",
     "text": [
      "Percentage of passengers who survived: 44.0\n"
     ]
    }
   ],
   "source": [
    "total_passengers = passengers.shape[0]\n",
    "survived_count = np.sum(passengers[:, 1] == 1)   # count of passengers who survived\n",
    "survived_percentage = (survived_count / total_passengers) * 100\n",
    "\n",
    "print(\"Percentage of passengers who survived:\", survived_percentage)\n"
   ]
  }
 ],
 "metadata": {
  "kernelspec": {
   "display_name": "Python 3",
   "language": "python",
   "name": "python3"
  },
  "language_info": {
   "codemirror_mode": {
    "name": "ipython",
    "version": 3
   },
   "file_extension": ".py",
   "mimetype": "text/x-python",
   "name": "python",
   "nbconvert_exporter": "python",
   "pygments_lexer": "ipython3",
   "version": "3.10.18"
  }
 },
 "nbformat": 4,
 "nbformat_minor": 5
}
